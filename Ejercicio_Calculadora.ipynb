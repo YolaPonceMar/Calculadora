{
 "cells": [
  {
   "cell_type": "code",
   "execution_count": 3,
   "id": "6d9677a5",
   "metadata": {},
   "outputs": [
    {
     "name": "stdout",
     "output_type": "stream",
     "text": [
      "Ingrese el primer numero: 3\n",
      "Ingrese el segundo numero:3\n",
      "La suma es 6.0\n",
      "La multiplicacion es 9.0\n",
      "La resta es 0.0\n",
      "La división es 1.0\n"
     ]
    }
   ],
   "source": [
    "#   Una clase: calculadora, con diferetes operaciones como funciones\n",
    "class calculadora:\n",
    "    '''Calculadora'''\n",
    "    def __init__ (self,num1,num2):\n",
    "        self.num1=float(num1)\n",
    "        self.num2=float(num2)\n",
    "\n",
    "    def suma(self):\n",
    "        suma=self.num1+self.num2\n",
    "        print(\"La suma es\",suma)\n",
    "    def resta(self):\n",
    "        resta=self.num1-self.num2\n",
    "        print(\"La resta es\",resta)\n",
    "    def multiplica(self):\n",
    "        multiplica=self.num1*self.num2\n",
    "        print(\"La multiplicacion es\", multiplica)\n",
    "    def div(self):\n",
    "        div=self.num1/self.num2\n",
    "        print(\"La división es\",div)\n",
    "\n",
    "num1=input ('Ingrese el primer numero: ')\n",
    "num2=input ('Ingrese el segundo numero:')\n",
    "\n",
    "calculadora=calculadora(num1,num2)\n",
    "calculadora.suma()\n",
    "calculadora.multiplica()\n",
    "calculadora.resta()\n",
    "calculadora.div()"
   ]
  },
  {
   "cell_type": "code",
   "execution_count": 2,
   "id": "63d2ab7d",
   "metadata": {},
   "outputs": [
    {
     "name": "stdout",
     "output_type": "stream",
     "text": [
      "La suma es 3.0\n"
     ]
    }
   ],
   "source": [
    "calculadora.suma()"
   ]
  },
  {
   "cell_type": "code",
   "execution_count": 34,
   "id": "6ff66e53",
   "metadata": {},
   "outputs": [
    {
     "name": "stdout",
     "output_type": "stream",
     "text": [
      "La resta es -3.0\n"
     ]
    }
   ],
   "source": [
    "calculadora.resta()"
   ]
  },
  {
   "cell_type": "code",
   "execution_count": 35,
   "id": "bc394d78",
   "metadata": {},
   "outputs": [
    {
     "name": "stdout",
     "output_type": "stream",
     "text": [
      "La división es 0.5\n"
     ]
    }
   ],
   "source": [
    "calculadora.div()"
   ]
  },
  {
   "cell_type": "code",
   "execution_count": null,
   "id": "8f12eb53",
   "metadata": {},
   "outputs": [],
   "source": []
  }
 ],
 "metadata": {
  "kernelspec": {
   "display_name": "Python 3 (ipykernel)",
   "language": "python",
   "name": "python3"
  },
  "language_info": {
   "codemirror_mode": {
    "name": "ipython",
    "version": 3
   },
   "file_extension": ".py",
   "mimetype": "text/x-python",
   "name": "python",
   "nbconvert_exporter": "python",
   "pygments_lexer": "ipython3",
   "version": "3.9.12"
  }
 },
 "nbformat": 4,
 "nbformat_minor": 5
}
